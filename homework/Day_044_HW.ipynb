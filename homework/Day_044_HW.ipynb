{
 "cells": [
  {
   "cell_type": "markdown",
   "metadata": {},
   "source": [
    "## [作業重點]\n",
    "確保你了解隨機森林模型中每個超參數的意義，並觀察調整超參數對結果的影響"
   ]
  },
  {
   "cell_type": "markdown",
   "metadata": {},
   "source": [
    "## 作業\n",
    "\n",
    "1. 試著調整 RandomForestClassifier(...) 中的參數，並觀察是否會改變結果？\n",
    "2. 改用其他資料集 (boston, wine)，並與回歸模型與決策樹的結果進行比較"
   ]
  },
  {
   "cell_type": "code",
   "execution_count": 16,
   "metadata": {},
   "outputs": [],
   "source": [
    "from sklearn import datasets\n",
    "from sklearn.ensemble import RandomForestClassifier\n",
    "from sklearn.model_selection import train_test_split\n",
    "from sklearn.metrics import accuracy_score"
   ]
  },
  {
   "cell_type": "code",
   "execution_count": 17,
   "metadata": {},
   "outputs": [
    {
     "data": {
      "text/plain": [
       "1.0"
      ]
     },
     "execution_count": 17,
     "metadata": {},
     "output_type": "execute_result"
    }
   ],
   "source": [
    "wine = datasets.load_wine()\n",
    "\n",
    "X_train, X_test, y_train, y_test = train_test_split(wine.data, wine.target, test_size=0.2, random_state=7)\n",
    "\n",
    "rdf = RandomForestClassifier(n_estimators=30, criterion=\"gini\", max_features=\"auto\", max_depth=4, min_samples_split=2, min_samples_leaf=1)\n",
    "rdf.fit(X_train, y_train)\n",
    "\n",
    "y_pred = rdf.predict(X_test)\n",
    "accuracy = accuracy_score(y_test, y_pred)\n",
    "accuracy"
   ]
  },
  {
   "cell_type": "code",
   "execution_count": 19,
   "metadata": {},
   "outputs": [
    {
     "name": "stdout",
     "output_type": "stream",
     "text": [
      "Features:  ['alcohol', 'malic_acid', 'ash', 'alcalinity_of_ash', 'magnesium', 'total_phenols', 'flavanoids', 'nonflavanoid_phenols', 'proanthocyanins', 'color_intensity', 'hue', 'od280/od315_of_diluted_wines', 'proline']\n"
     ]
    }
   ],
   "source": [
    "print(\"Features: \", wine.feature_names)"
   ]
  },
  {
   "cell_type": "code",
   "execution_count": 20,
   "metadata": {},
   "outputs": [
    {
     "data": {
      "text/plain": [
       "array([[5.25467440e-03, 7.04061896e-02, 9.24339136e-01],\n",
       "       [9.06212121e-01, 6.72895623e-02, 2.64983165e-02],\n",
       "       [5.25467440e-03, 3.73952289e-03, 9.91005803e-01],\n",
       "       [7.09219858e-04, 1.36240355e-01, 8.63050425e-01],\n",
       "       [1.33333333e-01, 7.56695157e-01, 1.09971510e-01],\n",
       "       [2.64235056e-02, 9.45141649e-02, 8.79062330e-01],\n",
       "       [1.44927536e-03, 9.22653289e-01, 7.58974359e-02],\n",
       "       [7.75000000e-01, 1.91666667e-01, 3.33333333e-02],\n",
       "       [3.33333333e-02, 9.17852564e-01, 4.88141026e-02],\n",
       "       [7.61483942e-02, 2.46734692e-01, 6.77116914e-01],\n",
       "       [8.33333333e-01, 1.66666667e-01, 0.00000000e+00],\n",
       "       [7.00483092e-03, 9.56356992e-01, 3.66381766e-02],\n",
       "       [7.63562678e-03, 2.52152221e-01, 7.40212152e-01],\n",
       "       [1.44927536e-03, 9.58967391e-01, 3.95833333e-02],\n",
       "       [1.44927536e-03, 9.95245881e-01, 3.30484330e-03],\n",
       "       [8.67149758e-03, 9.55431067e-01, 3.58974359e-02],\n",
       "       [1.88888889e-01, 8.01556268e-01, 9.55484330e-03],\n",
       "       [3.78787879e-02, 7.17340067e-02, 8.90387205e-01],\n",
       "       [1.00000000e+00, 0.00000000e+00, 0.00000000e+00],\n",
       "       [9.95238095e-01, 4.76190476e-03, 0.00000000e+00],\n",
       "       [2.98909593e-01, 6.97785564e-01, 3.30484330e-03],\n",
       "       [2.66666667e-01, 7.32592593e-01, 7.40740741e-04],\n",
       "       [3.81159420e-02, 9.25986622e-01, 3.58974359e-02],\n",
       "       [2.38888889e-02, 9.16556268e-01, 5.95548433e-02],\n",
       "       [9.41666667e-01, 5.83333333e-02, 0.00000000e+00],\n",
       "       [5.25467440e-03, 6.51730067e-03, 9.88228025e-01],\n",
       "       [3.11594203e-03, 9.93579215e-01, 3.30484330e-03],\n",
       "       [3.78787879e-02, 5.80808081e-03, 9.56313131e-01],\n",
       "       [1.22164502e-01, 2.40331890e-01, 6.37503608e-01],\n",
       "       [0.00000000e+00, 2.01666667e-01, 7.98333333e-01],\n",
       "       [3.50000000e-02, 9.28361823e-01, 3.66381766e-02],\n",
       "       [6.33116883e-01, 3.40384800e-01, 2.64983165e-02],\n",
       "       [3.09017224e-03, 6.13441405e-02, 9.35565687e-01],\n",
       "       [0.00000000e+00, 9.96695157e-01, 3.30484330e-03],\n",
       "       [3.50000000e-02, 9.64259259e-01, 7.40740741e-04],\n",
       "       [6.66666667e-02, 9.09675926e-01, 2.36574074e-02]])"
      ]
     },
     "execution_count": 20,
     "metadata": {},
     "output_type": "execute_result"
    }
   ],
   "source": [
    "rdf.predict_proba(X_test)"
   ]
  },
  {
   "cell_type": "code",
   "execution_count": null,
   "metadata": {},
   "outputs": [],
   "source": []
  }
 ],
 "metadata": {
  "kernelspec": {
   "display_name": "Python 3",
   "language": "python",
   "name": "python3"
  },
  "language_info": {
   "codemirror_mode": {
    "name": "ipython",
    "version": 3
   },
   "file_extension": ".py",
   "mimetype": "text/x-python",
   "name": "python",
   "nbconvert_exporter": "python",
   "pygments_lexer": "ipython3",
   "version": "3.7.4"
  }
 },
 "nbformat": 4,
 "nbformat_minor": 4
}
